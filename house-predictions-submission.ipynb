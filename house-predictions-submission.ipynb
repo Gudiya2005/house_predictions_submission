{
 "cells": [
  {
   "cell_type": "code",
   "execution_count": 1,
   "id": "8a7494bf",
   "metadata": {
    "_cell_guid": "b1076dfc-b9ad-4769-8c92-a6c4dae69d19",
    "_uuid": "8f2839f25d086af736a60e9eeb907d3b93b6e0e5",
    "execution": {
     "iopub.execute_input": "2025-06-12T20:48:19.221659Z",
     "iopub.status.busy": "2025-06-12T20:48:19.221268Z",
     "iopub.status.idle": "2025-06-12T20:48:34.761196Z",
     "shell.execute_reply": "2025-06-12T20:48:34.759303Z"
    },
    "papermill": {
     "duration": 15.548068,
     "end_time": "2025-06-12T20:48:34.763971",
     "exception": false,
     "start_time": "2025-06-12T20:48:19.215903",
     "status": "completed"
    },
    "tags": []
   },
   "outputs": [
    {
     "name": "stdout",
     "output_type": "stream",
     "text": [
      "Validation RMSE: 0.14184472861566697\n"
     ]
    }
   ],
   "source": [
    "# Import libraries\n",
    "import pandas as pd\n",
    "import numpy as np\n",
    "from sklearn.ensemble import RandomForestRegressor, GradientBoostingRegressor\n",
    "from sklearn.metrics import mean_squared_error\n",
    "from sklearn.model_selection import train_test_split\n",
    "from sklearn.impute import SimpleImputer\n",
    "\n",
    "# Load the data, and separate the target\n",
    "iowa_file_path = '../input/home-data-for-ml-course/train.csv'\n",
    "home_data = pd.read_csv(iowa_file_path)\n",
    "\n",
    "# Add engineered features\n",
    "home_data['TotalBathrooms'] = home_data['FullBath'] + 0.5 * home_data['HalfBath']\n",
    "home_data['TotalSF'] = home_data['1stFlrSF'] + home_data['2ndFlrSF'] + home_data['GrLivArea']\n",
    "\n",
    "# Define target with log1p transformation\n",
    "y = np.log1p(home_data['SalePrice'])\n",
    "\n",
    "# Create X ",
    "#features = ['LotArea', 'YearBuilt', '1stFlrSF', '2ndFlrSF', 'FullBath', 'BedroomAbvGr', 'TotRmsAbvGrd']\n",
    "features = ['MSSubClass','LotArea','OverallQual','OverallCond','YearBuilt',\n",
    "            'YearRemodAdd','1stFlrSF','2ndFlrSF','LowQualFinSF','GrLivArea',\n",
    "            'FullBath','HalfBath','BedroomAbvGr','KitchenAbvGr','TotRmsAbvGrd',\n",
    "            'Fireplaces','WoodDeckSF','OpenPorchSF','EnclosedPorch','3SsnPorch',\n",
    "            'ScreenPorch','PoolArea','MiscVal','MoSold','YrSold'\n",
    "]\n",
    "\n",
    "# Select columns corresponding to features, and preview the data\n",
    "X = home_data[features]\n",
    "\n",
    "# Handle missing values using median imputation\n",
    "imputer = SimpleImputer(strategy='median')\n",
    "X = pd.DataFrame(imputer.fit_transform(X), columns=X.columns)\n",
    "\n",
    "# Split into validation and training data\n",
    "train_X, val_X, train_y, val_y = train_test_split(X, y, random_state=1)\n",
    "\n",
    "# Define a random forest model\n",
    "rf_model = RandomForestRegressor(random_state=1, n_estimators=700)\n",
    "rf_model.fit(train_X, train_y)\n",
    "rf_val_predictions = rf_model.predict(val_X)\n",
    "\n",
    "# Train Gradient Boosting model\n",
    "gbm_model = GradientBoostingRegressor(random_state=1, n_estimators=500)\n",
    "gbm_model.fit(train_X, train_y)\n",
    "gbm_val_predictions = gbm_model.predict(val_X)\n",
    "\n",
    "# Blend validation predictions\n",
    "val_preds = (rf_val_predictions + gbm_val_predictions) / 2\n",
    "print(\"Validation RMSE:\", np.sqrt(mean_squared_error(val_y, val_preds)))"
   ]
  },
  {
   "cell_type": "code",
   "execution_count": 2,
   "id": "55c1db28",
   "metadata": {
    "execution": {
     "iopub.execute_input": "2025-06-12T20:48:34.772104Z",
     "iopub.status.busy": "2025-06-12T20:48:34.770549Z",
     "iopub.status.idle": "2025-06-12T20:48:47.394961Z",
     "shell.execute_reply": "2025-06-12T20:48:47.393860Z"
    },
    "papermill": {
     "duration": 12.629896,
     "end_time": "2025-06-12T20:48:47.396888",
     "exception": false,
     "start_time": "2025-06-12T20:48:34.766992",
     "status": "completed"
    },
    "tags": []
   },
   "outputs": [],
   "source": [
    "rf_model.fit(X,y)\n",
    "gbm_model.fit(X,y)\n",
    "\n",
    "# Load test data\n",
    "test_data_path = '../input/home-data-for-ml-course/test.csv'\n",
    "test_data = pd.read_csv(test_data_path)\n",
    "\n",
    "# read test data file using pandas\n",
    "test_data = pd.read_csv(test_data_path)\n",
    "test_data = test_data.fillna(-1)\n",
    "\n",
    "# Add engineered features to test data\n",
    "test_data['TotalBathrooms'] = test_data['FullBath'] + 0.5 * test_data['HalfBath']\n",
    "test_data['TotalSF'] = test_data['1stFlrSF'] + test_data['2ndFlrSF'] + test_data['GrLivArea']\n",
    "\n",
    "# Select test features\n",
    "test_X = test_data[features]\n",
    "\n",
    "# Impute missing values in test data using same imputer\n",
    "test_X = pd.DataFrame(imputer.transform(test_X), columns=test_X.columns)\n",
    "\n",
    "# Make predictions and reverse log transform\n",
    "test_preds1 = np.expm1(rf_model.predict(test_X))\n",
    "test_preds2 = np.expm1(gbm_model.predict(test_X))\n",
    "test_preds = (test_preds1 + test_preds2) / 2\n",
    "\n",
    "# Create submission\n",
    "output = pd.DataFrame({'Id': test_data[\"Id\"], 'SalePrice': test_preds})\n",
    "output.to_csv('submission.csv', index=False)"
   ]
  },
  {
   "cell_type": "code",
   "execution_count": 3,
   "id": "e684b8d0",
   "metadata": {
    "execution": {
     "iopub.execute_input": "2025-06-12T20:48:47.403607Z",
     "iopub.status.busy": "2025-06-12T20:48:47.403267Z",
     "iopub.status.idle": "2025-06-12T20:48:47.412154Z",
     "shell.execute_reply": "2025-06-12T20:48:47.411068Z"
    },
    "papermill": {
     "duration": 0.014549,
     "end_time": "2025-06-12T20:48:47.414072",
     "exception": false,
     "start_time": "2025-06-12T20:48:47.399523",
     "status": "completed"
    },
    "tags": []
   },
   "outputs": [
    {
     "data": {
      "text/plain": [
       "['MSSubClass',\n",
       " 'LotArea',\n",
       " 'OverallQual',\n",
       " 'OverallCond',\n",
       " 'YearBuilt',\n",
       " 'YearRemodAdd',\n",
       " '1stFlrSF',\n",
       " '2ndFlrSF',\n",
       " 'LowQualFinSF',\n",
       " 'GrLivArea',\n",
       " 'FullBath',\n",
       " 'HalfBath',\n",
       " 'BedroomAbvGr',\n",
       " 'KitchenAbvGr',\n",
       " 'TotRmsAbvGrd',\n",
       " 'Fireplaces',\n",
       " 'WoodDeckSF',\n",
       " 'OpenPorchSF',\n",
       " 'EnclosedPorch',\n",
       " '3SsnPorch',\n",
       " 'ScreenPorch',\n",
       " 'PoolArea',\n",
       " 'MiscVal',\n",
       " 'MoSold',\n",
       " 'YrSold']"
      ]
     },
     "execution_count": 3,
     "metadata": {},
     "output_type": "execute_result"
    }
   ],
   "source": [
    "\n",
    "['MSSubClass',\n",
    "'LotArea',\n",
    "'OverallQual',\n",
    "'OverallCond',\n",
    "'YearBuilt',\n",
    "'YearRemodAdd',\n",
    "'1stFlrSF',\n",
    "'2ndFlrSF',\n",
    "'LowQualFinSF',\n",
    "'GrLivArea',\n",
    "'FullBath',\n",
    "'HalfBath',\n",
    "'BedroomAbvGr',\n",
    "'KitchenAbvGr',\n",
    "'TotRmsAbvGrd',\n",
    "'Fireplaces',\n",
    "'WoodDeckSF',\n",
    "'OpenPorchSF',\n",
    "'EnclosedPorch',\n",
    "'3SsnPorch',\n",
    "'ScreenPorch',\n",
    "'PoolArea',\n",
    "'MiscVal',\n",
    "'MoSold',\n",
    "'YrSold']"
   ]
  },
  {
   "cell_type": "code",
   "execution_count": 4,
   "id": "ee1c69e3",
   "metadata": {
    "execution": {
     "iopub.execute_input": "2025-06-12T20:48:47.420286Z",
     "iopub.status.busy": "2025-06-12T20:48:47.419887Z",
     "iopub.status.idle": "2025-06-12T20:48:47.444359Z",
     "shell.execute_reply": "2025-06-12T20:48:47.442889Z"
    },
    "papermill": {
     "duration": 0.030196,
     "end_time": "2025-06-12T20:48:47.446753",
     "exception": false,
     "start_time": "2025-06-12T20:48:47.416557",
     "status": "completed"
    },
    "tags": []
   },
   "outputs": [
    {
     "data": {
      "text/html": [
       "<div>\n",
       "<style scoped>\n",
       "    .dataframe tbody tr th:only-of-type {\n",
       "        vertical-align: middle;\n",
       "    }\n",
       "\n",
       "    .dataframe tbody tr th {\n",
       "        vertical-align: top;\n",
       "    }\n",
       "\n",
       "    .dataframe thead th {\n",
       "        text-align: right;\n",
       "    }\n",
       "</style>\n",
       "<table border=\"1\" class=\"dataframe\">\n",
       "  <thead>\n",
       "    <tr style=\"text-align: right;\">\n",
       "      <th></th>\n",
       "      <th>Id</th>\n",
       "      <th>SalePrice</th>\n",
       "    </tr>\n",
       "  </thead>\n",
       "  <tbody>\n",
       "    <tr>\n",
       "      <th>0</th>\n",
       "      <td>1461</td>\n",
       "      <td>125451.680656</td>\n",
       "    </tr>\n",
       "    <tr>\n",
       "      <th>1</th>\n",
       "      <td>1462</td>\n",
       "      <td>158010.052852</td>\n",
       "    </tr>\n",
       "    <tr>\n",
       "      <th>2</th>\n",
       "      <td>1463</td>\n",
       "      <td>177963.947741</td>\n",
       "    </tr>\n",
       "    <tr>\n",
       "      <th>3</th>\n",
       "      <td>1464</td>\n",
       "      <td>185192.347682</td>\n",
       "    </tr>\n",
       "    <tr>\n",
       "      <th>4</th>\n",
       "      <td>1465</td>\n",
       "      <td>191270.479038</td>\n",
       "    </tr>\n",
       "  </tbody>\n",
       "</table>\n",
       "</div>"
      ],
      "text/plain": [
       "     Id      SalePrice\n",
       "0  1461  125451.680656\n",
       "1  1462  158010.052852\n",
       "2  1463  177963.947741\n",
       "3  1464  185192.347682\n",
       "4  1465  191270.479038"
      ]
     },
     "execution_count": 4,
     "metadata": {},
     "output_type": "execute_result"
    }
   ],
   "source": [
    "output.head()"
   ]
  },
  {
   "cell_type": "code",
   "execution_count": null,
   "id": "0cbc23c0",
   "metadata": {
    "papermill": {
     "duration": 0.002245,
     "end_time": "2025-06-12T20:48:47.451681",
     "exception": false,
     "start_time": "2025-06-12T20:48:47.449436",
     "status": "completed"
    },
    "tags": []
   },
   "outputs": [],
   "source": []
  }
 ],
 "metadata": {
  "kaggle": {
   "accelerator": "none",
   "dataSources": [
    {
     "databundleVersionId": 111096,
     "sourceId": 10211,
     "sourceType": "competition"
    }
   ],
   "dockerImageVersionId": 31040,
   "isGpuEnabled": false,
   "isInternetEnabled": true,
   "language": "python",
   "sourceType": "notebook"
  },
  "kernelspec": {
   "display_name": "Python 3",
   "language": "python",
   "name": "python3"
  },
  "language_info": {
   "codemirror_mode": {
    "name": "ipython",
    "version": 3
   },
   "file_extension": ".py",
   "mimetype": "text/x-python",
   "name": "python",
   "nbconvert_exporter": "python",
   "pygments_lexer": "ipython3",
   "version": "3.11.11"
  },
  "papermill": {
   "default_parameters": {},
   "duration": 35.187075,
   "end_time": "2025-06-12T20:48:48.177119",
   "environment_variables": {},
   "exception": null,
   "input_path": "__notebook__.ipynb",
   "output_path": "__notebook__.ipynb",
   "parameters": {},
   "start_time": "2025-06-12T20:48:12.990044",
   "version": "2.6.0"
  }
 },
 "nbformat": 4,
 "nbformat_minor": 5
}
